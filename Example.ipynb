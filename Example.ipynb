{
 "cells": [
  {
   "cell_type": "code",
   "execution_count": 2,
   "metadata": {},
   "outputs": [],
   "source": [
    "import numpy as np\n",
    "import networkx as nx\n",
    "import pandas as pd\n",
    "import matplotlib.pyplot as plt\n",
    "\n",
    "import ThresholdBooleanNetworks as nt"
   ]
  },
  {
   "cell_type": "code",
   "execution_count": 25,
   "metadata": {},
   "outputs": [],
   "source": [
    "A = np.array([\n",
    "    [2,2,-1],\n",
    "    [-1,0,3],\n",
    "    [2,0,0]\n",
    "])\n",
    "\n",
    "B = np.array([1,1,0])"
   ]
  },
  {
   "cell_type": "code",
   "execution_count": 4,
   "metadata": {},
   "outputs": [],
   "source": [
    "n = len(A)"
   ]
  },
  {
   "cell_type": "code",
   "execution_count": 5,
   "metadata": {},
   "outputs": [
    {
     "data": {
      "text/plain": [
       "1"
      ]
     },
     "execution_count": 5,
     "metadata": {},
     "output_type": "execute_result"
    }
   ],
   "source": [
    "# Generate a networkX graph, and check the number of connected components\n",
    "G = nx.from_numpy_matrix(A, create_using=None)\n",
    "nx.number_connected_components(G)"
   ]
  },
  {
   "cell_type": "code",
   "execution_count": 27,
   "metadata": {},
   "outputs": [],
   "source": [
    "convention = 1\n",
    "with open('transitions.dat','w+') as t:\n",
    "    for label in range(0,np.power(2,n)):\n",
    "        t.write(str(label)+'\\t'+str(nt.transition(A,B,convention,label))+'\\n')"
   ]
  },
  {
   "cell_type": "code",
   "execution_count": 28,
   "metadata": {},
   "outputs": [],
   "source": [
    "# Transition matrix (label 1 to label 2)\n",
    "T = np.loadtxt('transitions.dat',dtype=int)"
   ]
  },
  {
   "cell_type": "code",
   "execution_count": 29,
   "metadata": {},
   "outputs": [],
   "source": [
    "att = nt.find_attractors(T)"
   ]
  },
  {
   "cell_type": "code",
   "execution_count": 30,
   "metadata": {},
   "outputs": [
    {
     "data": {
      "text/plain": [
       "[[[0], 1], [[7], 1], [[1, 4, 6, 3], 6]]"
      ]
     },
     "execution_count": 30,
     "metadata": {},
     "output_type": "execute_result"
    }
   ],
   "source": [
    "att"
   ]
  },
  {
   "cell_type": "code",
   "execution_count": 32,
   "metadata": {},
   "outputs": [
    {
     "name": "stdout",
     "output_type": "stream",
     "text": [
      "[0 0 0]\n",
      "basin size =  1\n",
      "\n",
      "[1 1 1]\n",
      "basin size =  1\n",
      "\n",
      "[0 0 1]\n",
      "[1 0 0]\n",
      "[1 1 0]\n",
      "[0 1 1]\n",
      "basin size =  6\n",
      "\n"
     ]
    }
   ],
   "source": [
    "for a in att:\n",
    "    for i in range(len(a[0])):\n",
    "        print(nt.label_to_state (a[0][i], n))\n",
    "    print('basin size = ' , a[1])\n",
    "    print('')"
   ]
  }
 ],
 "metadata": {
  "kernelspec": {
   "display_name": "Python 2",
   "language": "python",
   "name": "python2"
  },
  "language_info": {
   "codemirror_mode": {
    "name": "ipython",
    "version": 3
   },
   "file_extension": ".py",
   "mimetype": "text/x-python",
   "name": "python",
   "nbconvert_exporter": "python",
   "pygments_lexer": "ipython3",
   "version": "3.9.5"
  }
 },
 "nbformat": 4,
 "nbformat_minor": 2
}
