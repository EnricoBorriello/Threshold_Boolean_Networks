{
 "cells": [
  {
   "cell_type": "code",
   "execution_count": 1,
   "metadata": {},
   "outputs": [],
   "source": [
    "import numpy as np\n",
    "import networkx as nx\n",
    "import pandas as pd\n",
    "import matplotlib.pyplot as plt\n",
    "\n",
    "import ThresholdBooleanNetworks as nt"
   ]
  },
  {
   "cell_type": "code",
   "execution_count": 137,
   "metadata": {},
   "outputs": [],
   "source": [
    "A = np.array([\n",
    "    [2,2,-1],\n",
    "    [-1,0,3],\n",
    "    [2,0,0]\n",
    "])\n",
    "\n",
    "B = [1,1,0]"
   ]
  },
  {
   "cell_type": "code",
   "execution_count": 138,
   "metadata": {},
   "outputs": [
    {
     "data": {
      "text/plain": [
       "1"
      ]
     },
     "execution_count": 138,
     "metadata": {},
     "output_type": "execute_result"
    }
   ],
   "source": [
    "# Generate a networkX graph, and check the number of connected components\n",
    "G = nx.from_numpy_matrix(np.array(A), create_using=None)\n",
    "nx.number_connected_components(G)"
   ]
  },
  {
   "cell_type": "code",
   "execution_count": 139,
   "metadata": {},
   "outputs": [],
   "source": [
    "def find_attractors(matrix,thresholds,convention=1):\n",
    "    A = np.array(matrix)\n",
    "    B = np.array(thresholds)\n",
    "    n = len(A)\n",
    "    with open('transitions.dat','w+') as t:\n",
    "        for label in range(0,np.power(2,n)):\n",
    "            t.write(str(label)+'\\t'+str(nt.transition(A,B,convention,label))+'\\n')\n",
    "    T = np.loadtxt('transitions.dat',dtype=int)\n",
    "    att = nt.find_attractors(T)\n",
    "    return att"
   ]
  },
  {
   "cell_type": "code",
   "execution_count": 149,
   "metadata": {},
   "outputs": [],
   "source": [
    "def visualize_attractors (attractors, size):\n",
    "    att = attractors\n",
    "    for a in att:\n",
    "        for i in range(len(a[0])):\n",
    "            print(nt.label_to_state (a[0][i], size))\n",
    "        print('basin size (num. states) = ' , a[1])\n",
    "        print('basin size (%) = ' , 100*a[1]/(2**size))\n",
    "        print('')"
   ]
  },
  {
   "cell_type": "code",
   "execution_count": 150,
   "metadata": {},
   "outputs": [
    {
     "name": "stdout",
     "output_type": "stream",
     "text": [
      "[0 0 0]\n",
      "basin size (num. states) =  1\n",
      "basin size (%) =  12.5\n",
      "\n",
      "[1 1 1]\n",
      "basin size (num. states) =  1\n",
      "basin size (%) =  12.5\n",
      "\n",
      "[0 0 1]\n",
      "[1 0 0]\n",
      "[1 1 0]\n",
      "[0 1 1]\n",
      "basin size (num. states) =  6\n",
      "basin size (%) =  75.0\n",
      "\n"
     ]
    }
   ],
   "source": [
    "visualize_attractors(find_attractors(A,B),len(A))"
   ]
  },
  {
   "cell_type": "code",
   "execution_count": 151,
   "metadata": {},
   "outputs": [
    {
     "name": "stdout",
     "output_type": "stream",
     "text": [
      "[0 0 0 0 0 0]\n",
      "basin size (num. states) =  1\n",
      "basin size (%) =  1.5625\n",
      "\n",
      "[1 1 1 1 1 1]\n",
      "basin size (num. states) =  63\n",
      "basin size (%) =  98.4375\n",
      "\n"
     ]
    }
   ],
   "source": [
    "A2 = np.block([[A,A],[A,A]])\n",
    "B2 = B*2\n",
    "\n",
    "visualize_attractors(find_attractors(A2,B2),len(A2))"
   ]
  },
  {
   "cell_type": "code",
   "execution_count": null,
   "metadata": {},
   "outputs": [],
   "source": []
  },
  {
   "cell_type": "code",
   "execution_count": 143,
   "metadata": {},
   "outputs": [
    {
     "name": "stdout",
     "output_type": "stream",
     "text": [
      "[0 0 0 0 0 0 0 0 0 0 0 0]\n",
      "basin size =  0.0244140625\n",
      "\n",
      "[1 1 1 1 1 1 1 1 1 1 1 1]\n",
      "basin size =  99.9755859375\n",
      "\n"
     ]
    }
   ],
   "source": [
    "A4 = np.block([[A2,A2],[A2,A2]])\n",
    "B4 = B*4\n",
    "\n",
    "visualize_attractors(find_attractors(A4,B4),len(A4))"
   ]
  },
  {
   "cell_type": "code",
   "execution_count": 148,
   "metadata": {},
   "outputs": [
    {
     "name": "stdout",
     "output_type": "stream",
     "text": [
      "0 0 0    -1\n",
      "0 0 1    3\n",
      "0 1 0    -3\n",
      "0 1 1    1\n",
      "1 0 0    3\n",
      "1 0 1    7\n",
      "1 1 0    1\n",
      "1 1 1    5\n"
     ]
    }
   ],
   "source": [
    "for x1 in range(2):\n",
    "    for x2 in range(2):\n",
    "        for x3 in range(2):\n",
    "            print(x1,x2,x3,'  ',4*x1-2*x2+4*x3-1)"
   ]
  },
  {
   "cell_type": "code",
   "execution_count": null,
   "metadata": {},
   "outputs": [],
   "source": []
  }
 ],
 "metadata": {
  "kernelspec": {
   "display_name": "Python 2",
   "language": "python",
   "name": "python2"
  },
  "language_info": {
   "codemirror_mode": {
    "name": "ipython",
    "version": 3
   },
   "file_extension": ".py",
   "mimetype": "text/x-python",
   "name": "python",
   "nbconvert_exporter": "python",
   "pygments_lexer": "ipython3",
   "version": "3.9.5"
  }
 },
 "nbformat": 4,
 "nbformat_minor": 2
}
