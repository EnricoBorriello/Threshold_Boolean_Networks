{
 "cells": [
  {
   "cell_type": "code",
   "execution_count": 16,
   "metadata": {},
   "outputs": [],
   "source": [
    "# Enrico Borriello\n",
    "# enrico.borriello@asu.edu\n",
    "\n",
    "# Dec 11, 2020\n",
    "# Review phase of https://arxiv.org/abs/2010.12075\n",
    "\n",
    "# As part of our answer to the reviewers, we are checking our scaling law for random threshold networks.\n",
    "# These are the seven networks with zero threshold that significantly exceed log2r"
   ]
  },
  {
   "cell_type": "code",
   "execution_count": 17,
   "metadata": {},
   "outputs": [],
   "source": [
    "import numpy as np\n",
    "import networkx as nx\n",
    "import pandas as pd\n",
    "import matplotlib.pyplot as plt\n",
    "\n",
    "import ThresholdBooleanNetworks as nt"
   ]
  },
  {
   "cell_type": "code",
   "execution_count": 18,
   "metadata": {},
   "outputs": [],
   "source": [
    "# Bryan's inputs\n",
    "net16 = '201211_large_control_kernel_networks/201211_random_16_tpNone_seed1968.pkl'\n",
    "net20 = '201211_large_control_kernel_networks/201211_random_20_tpNone_seed2460.pkl'\n",
    "net30 = '201211_large_control_kernel_networks/201211_random_30_tpNone_seed3690.pkl'\n",
    "net35 = '201211_large_control_kernel_networks/201211_random_35_tpNone_seed4305.pkl'\n",
    "net40 = '201211_large_control_kernel_networks/201211_random_40_tpNone_seed4920.pkl'\n",
    "net45 = '201211_large_control_kernel_networks/201211_random_45_tpNone_seed5535.pkl'\n",
    "net46 = '201211_large_control_kernel_networks/201211_random_46_tpNone_seed5658.pkl'\n",
    "net49 = '201211_large_control_kernel_networks/201211_random_49_tp0.5_seed6027.pkl'\n",
    "net70 = '201211_large_control_kernel_networks/201211_random_70_tpNone_seed8610.pkl'"
   ]
  },
  {
   "cell_type": "code",
   "execution_count": 19,
   "metadata": {},
   "outputs": [
    {
     "data": {
      "text/plain": [
       "{u'attractors': [[[0, 0, 0, 0, 0, 0, 0, 0, 0, 0]],\n",
       "  [[1, 1, 0, 1, 1, 1, 0, 0, 1, 0]],\n",
       "  [[1, 1, 0, 1, 1, 1, 0, 0, 1, 1]],\n",
       "  [[0, 0, 0, 0, 0, 1, 0, 0, 0, 0]]],\n",
       " u'control kernels': [{0, 1, 2, 3, 4, 5, 6, 7, 8, 9},\n",
       "  {0, 9},\n",
       "  {9},\n",
       "  {0, 1, 3, 4, 5, 7, 8, 9}],\n",
       " u'thresholds': array([ 0.,  0.,  0.,  0.,  0.,  0.,  0.,  0.,  0.,  0.]),\n",
       " u'weights': array([[ 0.,  0.,  1.,  0.,  1.,  0.,  0.,  0.,  1., -1.],\n",
       "        [ 0.,  0., -1.,  1.,  1.,  0.,  1.,  1.,  1.,  0.],\n",
       "        [ 0.,  0.,  0.,  0.,  0., -1.,  0., -1., -1.,  0.],\n",
       "        [ 0.,  0.,  1.,  0.,  1.,  0.,  1.,  0.,  0.,  0.],\n",
       "        [ 0.,  1.,  0.,  0.,  0.,  0.,  1.,  0.,  0.,  1.],\n",
       "        [ 0.,  1.,  0.,  0.,  1.,  0.,  0.,  0., -1.,  0.],\n",
       "        [ 0.,  0.,  0., -1.,  0., -1.,  0.,  0.,  0.,  0.],\n",
       "        [-1.,  0.,  0.,  0.,  0.,  0.,  0.,  0.,  0.,  0.],\n",
       "        [ 1.,  0.,  0.,  0.,  0.,  0.,  1.,  0.,  0.,  1.],\n",
       "        [ 0.,  0.,  1.,  0.,  0.,  0.,  1., -1.,  0.,  0.]])}"
      ]
     },
     "execution_count": 19,
     "metadata": {},
     "output_type": "execute_result"
    }
   ],
   "source": [
    "data = pd.read_pickle(net16)\n",
    "data"
   ]
  },
  {
   "cell_type": "code",
   "execution_count": 20,
   "metadata": {},
   "outputs": [],
   "source": [
    "# For some reason, Doug's code uses the transpose of the actual adjacency matrix. \n",
    "# This is why I'm transposing the input Bryan sent me.\n",
    "A = np.transpose(data['weights'])\n",
    "B = data['thresholds']"
   ]
  },
  {
   "cell_type": "code",
   "execution_count": 21,
   "metadata": {},
   "outputs": [],
   "source": [
    "n = len(A)"
   ]
  },
  {
   "cell_type": "code",
   "execution_count": 22,
   "metadata": {},
   "outputs": [
    {
     "data": {
      "text/plain": [
       "1"
      ]
     },
     "execution_count": 22,
     "metadata": {},
     "output_type": "execute_result"
    }
   ],
   "source": [
    "# Generate a networkX graph, and check the number of connected components\n",
    "G = nx.from_numpy_matrix(A, create_using=None)\n",
    "nx.number_connected_components(G)"
   ]
  },
  {
   "cell_type": "code",
   "execution_count": 23,
   "metadata": {},
   "outputs": [],
   "source": [
    "# Bryan's using the 0-convention for the threshold function (ThresholdBooleanNetworks.py)"
   ]
  },
  {
   "cell_type": "code",
   "execution_count": 24,
   "metadata": {},
   "outputs": [],
   "source": [
    "convention = 0\n",
    "with open('transitions.dat','w+') as t:\n",
    "    for label in range(0,np.power(2,n)):\n",
    "        t.write(str(label)+'\\t'+str(nt.transition(A,B,convention,label))+'\\n')"
   ]
  },
  {
   "cell_type": "code",
   "execution_count": 25,
   "metadata": {},
   "outputs": [],
   "source": [
    "# Transition matrix (label 1 to label 2)\n",
    "T = np.loadtxt('transitions.dat',dtype=int)"
   ]
  },
  {
   "cell_type": "code",
   "execution_count": 26,
   "metadata": {},
   "outputs": [],
   "source": [
    "att = nt.find_attractors(T)"
   ]
  },
  {
   "cell_type": "code",
   "execution_count": 27,
   "metadata": {},
   "outputs": [
    {
     "data": {
      "text/plain": [
       "[[[16], 1], [[882], 422], [[883], 600], [[0], 1]]"
      ]
     },
     "execution_count": 27,
     "metadata": {},
     "output_type": "execute_result"
    }
   ],
   "source": [
    "att"
   ]
  },
  {
   "cell_type": "code",
   "execution_count": 28,
   "metadata": {},
   "outputs": [],
   "source": [
    "def CKsize(attractor_label):\n",
    "    for i in range(len(data['attractors'])):\n",
    "        if nt.state_to_label(data['attractors'][i][0]) == attractor_label:\n",
    "            return len(data['control kernels'][i])"
   ]
  },
  {
   "cell_type": "code",
   "execution_count": 29,
   "metadata": {},
   "outputs": [
    {
     "name": "stdout",
     "output_type": "stream",
     "text": [
      "[0 0 0 0 0 1 0 0 0 0]\n",
      "('basin size = ', 1)\n",
      "('|CK| = ', 8)\n",
      "\n",
      "[1 1 0 1 1 1 0 0 1 0]\n",
      "('basin size = ', 422)\n",
      "('|CK| = ', 2)\n",
      "\n",
      "[1 1 0 1 1 1 0 0 1 1]\n",
      "('basin size = ', 600)\n",
      "('|CK| = ', 1)\n",
      "\n",
      "[0 0 0 0 0 0 0 0 0 0]\n",
      "('basin size = ', 1)\n",
      "('|CK| = ', 10)\n",
      "\n"
     ]
    }
   ],
   "source": [
    "for a in att:\n",
    "    for i in range(len(a[0])):\n",
    "        print(nt.label_to_state (a[0][i], n))\n",
    "    print('basin size = ' , a[1])\n",
    "    print('|CK| = ' , CKsize(a[0][0]))\n",
    "    print('')"
   ]
  },
  {
   "cell_type": "code",
   "execution_count": 30,
   "metadata": {},
   "outputs": [],
   "source": [
    "# !rm transitions.dat"
   ]
  }
 ],
 "metadata": {
  "kernelspec": {
   "display_name": "Python 2",
   "language": "python",
   "name": "python2"
  },
  "language_info": {
   "codemirror_mode": {
    "name": "ipython",
    "version": 2
   },
   "file_extension": ".py",
   "mimetype": "text/x-python",
   "name": "python",
   "nbconvert_exporter": "python",
   "pygments_lexer": "ipython2",
   "version": "2.7.14"
  }
 },
 "nbformat": 4,
 "nbformat_minor": 2
}
